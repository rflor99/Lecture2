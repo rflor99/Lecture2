{
  "nbformat": 4,
  "nbformat_minor": 0,
  "metadata": {
    "colab": {
      "provenance": []
    },
    "kernelspec": {
      "name": "python3",
      "display_name": "Python 3"
    },
    "language_info": {
      "name": "python"
    }
  },
  "cells": [
    {
      "cell_type": "markdown",
      "source": [
        "# 1.) Import the data from CCLE into a new Google Colab file"
      ],
      "metadata": {
        "id": "7ywSRtNI4s5h"
      }
    },
    {
      "cell_type": "code",
      "execution_count": 2,
      "metadata": {
        "id": "nsG1QV154GYZ"
      },
      "outputs": [],
      "source": [
        "import pandas as pd\n",
        "from google.colab import drive\n",
        "import matplotlib.pyplot as plt"
      ]
    },
    {
      "cell_type": "code",
      "source": [
        "drive.mount('/content/gdrive/', force_remount = True)"
      ],
      "metadata": {
        "id": "Iku0T8Ou4Lcu",
        "colab": {
          "base_uri": "https://localhost:8080/"
        },
        "outputId": "42877b82-4f74-4da1-86bf-4f96efb07525"
      },
      "execution_count": 3,
      "outputs": [
        {
          "output_type": "stream",
          "name": "stdout",
          "text": [
            "Mounted at /content/gdrive/\n"
          ]
        }
      ]
    },
    {
      "cell_type": "code",
      "source": [
        "import sklearn as sk"
      ],
      "metadata": {
        "id": "KJQfo8mz43Kz"
      },
      "execution_count": 4,
      "outputs": []
    },
    {
      "cell_type": "code",
      "source": [
        "from sklearn.linear_model import LinearRegression"
      ],
      "metadata": {
        "id": "FUjNYCkeLHo7"
      },
      "execution_count": 5,
      "outputs": []
    },
    {
      "cell_type": "code",
      "source": [
        "import statsmodels.api as sm"
      ],
      "metadata": {
        "id": "MS-WNm02Lgwb"
      },
      "execution_count": 6,
      "outputs": []
    },
    {
      "cell_type": "code",
      "source": [
        "df = pd.read_csv(\"/content/gdrive/MyDrive/Econ441B/insurance.csv\")"
      ],
      "metadata": {
        "id": "x8AHIkVNS5SN"
      },
      "execution_count": 7,
      "outputs": []
    },
    {
      "cell_type": "code",
      "source": [
        "df.loc[df['sex']=='female', 'sex'] = 1"
      ],
      "metadata": {
        "id": "zPzhldjBTLxv"
      },
      "execution_count": 8,
      "outputs": []
    },
    {
      "cell_type": "code",
      "source": [
        "df.loc[df['sex']=='male', 'sex'] = 0"
      ],
      "metadata": {
        "id": "5VQMaWIOTepd"
      },
      "execution_count": 9,
      "outputs": []
    },
    {
      "cell_type": "code",
      "source": [
        "df.loc[df['smoker']=='yes', 'smoker'] = 1"
      ],
      "metadata": {
        "id": "ZPOoSYR8TnmB"
      },
      "execution_count": 10,
      "outputs": []
    },
    {
      "cell_type": "code",
      "source": [
        "df.loc[df['smoker']=='no', 'smoker'] = 0"
      ],
      "metadata": {
        "id": "qH21xiz7T1k7"
      },
      "execution_count": 11,
      "outputs": []
    },
    {
      "cell_type": "code",
      "source": [
        "df.head()"
      ],
      "metadata": {
        "colab": {
          "base_uri": "https://localhost:8080/",
          "height": 206
        },
        "id": "pHFlgJg8kq_3",
        "outputId": "5ee2ca63-e133-48e9-a069-dce770f43f3a"
      },
      "execution_count": 12,
      "outputs": [
        {
          "output_type": "execute_result",
          "data": {
            "text/plain": [
              "   age sex     bmi  children smoker     region      charges\n",
              "0   19   1  27.900         0      1  southwest  16884.92400\n",
              "1   18   0  33.770         1      0  southeast   1725.55230\n",
              "2   28   0  33.000         3      0  southeast   4449.46200\n",
              "3   33   0  22.705         0      0  northwest  21984.47061\n",
              "4   32   0  28.880         0      0  northwest   3866.85520"
            ],
            "text/html": [
              "\n",
              "  <div id=\"df-a3884d62-0fd0-466d-b5ff-07bb644a240f\">\n",
              "    <div class=\"colab-df-container\">\n",
              "      <div>\n",
              "<style scoped>\n",
              "    .dataframe tbody tr th:only-of-type {\n",
              "        vertical-align: middle;\n",
              "    }\n",
              "\n",
              "    .dataframe tbody tr th {\n",
              "        vertical-align: top;\n",
              "    }\n",
              "\n",
              "    .dataframe thead th {\n",
              "        text-align: right;\n",
              "    }\n",
              "</style>\n",
              "<table border=\"1\" class=\"dataframe\">\n",
              "  <thead>\n",
              "    <tr style=\"text-align: right;\">\n",
              "      <th></th>\n",
              "      <th>age</th>\n",
              "      <th>sex</th>\n",
              "      <th>bmi</th>\n",
              "      <th>children</th>\n",
              "      <th>smoker</th>\n",
              "      <th>region</th>\n",
              "      <th>charges</th>\n",
              "    </tr>\n",
              "  </thead>\n",
              "  <tbody>\n",
              "    <tr>\n",
              "      <th>0</th>\n",
              "      <td>19</td>\n",
              "      <td>1</td>\n",
              "      <td>27.900</td>\n",
              "      <td>0</td>\n",
              "      <td>1</td>\n",
              "      <td>southwest</td>\n",
              "      <td>16884.92400</td>\n",
              "    </tr>\n",
              "    <tr>\n",
              "      <th>1</th>\n",
              "      <td>18</td>\n",
              "      <td>0</td>\n",
              "      <td>33.770</td>\n",
              "      <td>1</td>\n",
              "      <td>0</td>\n",
              "      <td>southeast</td>\n",
              "      <td>1725.55230</td>\n",
              "    </tr>\n",
              "    <tr>\n",
              "      <th>2</th>\n",
              "      <td>28</td>\n",
              "      <td>0</td>\n",
              "      <td>33.000</td>\n",
              "      <td>3</td>\n",
              "      <td>0</td>\n",
              "      <td>southeast</td>\n",
              "      <td>4449.46200</td>\n",
              "    </tr>\n",
              "    <tr>\n",
              "      <th>3</th>\n",
              "      <td>33</td>\n",
              "      <td>0</td>\n",
              "      <td>22.705</td>\n",
              "      <td>0</td>\n",
              "      <td>0</td>\n",
              "      <td>northwest</td>\n",
              "      <td>21984.47061</td>\n",
              "    </tr>\n",
              "    <tr>\n",
              "      <th>4</th>\n",
              "      <td>32</td>\n",
              "      <td>0</td>\n",
              "      <td>28.880</td>\n",
              "      <td>0</td>\n",
              "      <td>0</td>\n",
              "      <td>northwest</td>\n",
              "      <td>3866.85520</td>\n",
              "    </tr>\n",
              "  </tbody>\n",
              "</table>\n",
              "</div>\n",
              "      <button class=\"colab-df-convert\" onclick=\"convertToInteractive('df-a3884d62-0fd0-466d-b5ff-07bb644a240f')\"\n",
              "              title=\"Convert this dataframe to an interactive table.\"\n",
              "              style=\"display:none;\">\n",
              "        \n",
              "  <svg xmlns=\"http://www.w3.org/2000/svg\" height=\"24px\"viewBox=\"0 0 24 24\"\n",
              "       width=\"24px\">\n",
              "    <path d=\"M0 0h24v24H0V0z\" fill=\"none\"/>\n",
              "    <path d=\"M18.56 5.44l.94 2.06.94-2.06 2.06-.94-2.06-.94-.94-2.06-.94 2.06-2.06.94zm-11 1L8.5 8.5l.94-2.06 2.06-.94-2.06-.94L8.5 2.5l-.94 2.06-2.06.94zm10 10l.94 2.06.94-2.06 2.06-.94-2.06-.94-.94-2.06-.94 2.06-2.06.94z\"/><path d=\"M17.41 7.96l-1.37-1.37c-.4-.4-.92-.59-1.43-.59-.52 0-1.04.2-1.43.59L10.3 9.45l-7.72 7.72c-.78.78-.78 2.05 0 2.83L4 21.41c.39.39.9.59 1.41.59.51 0 1.02-.2 1.41-.59l7.78-7.78 2.81-2.81c.8-.78.8-2.07 0-2.86zM5.41 20L4 18.59l7.72-7.72 1.47 1.35L5.41 20z\"/>\n",
              "  </svg>\n",
              "      </button>\n",
              "      \n",
              "  <style>\n",
              "    .colab-df-container {\n",
              "      display:flex;\n",
              "      flex-wrap:wrap;\n",
              "      gap: 12px;\n",
              "    }\n",
              "\n",
              "    .colab-df-convert {\n",
              "      background-color: #E8F0FE;\n",
              "      border: none;\n",
              "      border-radius: 50%;\n",
              "      cursor: pointer;\n",
              "      display: none;\n",
              "      fill: #1967D2;\n",
              "      height: 32px;\n",
              "      padding: 0 0 0 0;\n",
              "      width: 32px;\n",
              "    }\n",
              "\n",
              "    .colab-df-convert:hover {\n",
              "      background-color: #E2EBFA;\n",
              "      box-shadow: 0px 1px 2px rgba(60, 64, 67, 0.3), 0px 1px 3px 1px rgba(60, 64, 67, 0.15);\n",
              "      fill: #174EA6;\n",
              "    }\n",
              "\n",
              "    [theme=dark] .colab-df-convert {\n",
              "      background-color: #3B4455;\n",
              "      fill: #D2E3FC;\n",
              "    }\n",
              "\n",
              "    [theme=dark] .colab-df-convert:hover {\n",
              "      background-color: #434B5C;\n",
              "      box-shadow: 0px 1px 3px 1px rgba(0, 0, 0, 0.15);\n",
              "      filter: drop-shadow(0px 1px 2px rgba(0, 0, 0, 0.3));\n",
              "      fill: #FFFFFF;\n",
              "    }\n",
              "  </style>\n",
              "\n",
              "      <script>\n",
              "        const buttonEl =\n",
              "          document.querySelector('#df-a3884d62-0fd0-466d-b5ff-07bb644a240f button.colab-df-convert');\n",
              "        buttonEl.style.display =\n",
              "          google.colab.kernel.accessAllowed ? 'block' : 'none';\n",
              "\n",
              "        async function convertToInteractive(key) {\n",
              "          const element = document.querySelector('#df-a3884d62-0fd0-466d-b5ff-07bb644a240f');\n",
              "          const dataTable =\n",
              "            await google.colab.kernel.invokeFunction('convertToInteractive',\n",
              "                                                     [key], {});\n",
              "          if (!dataTable) return;\n",
              "\n",
              "          const docLinkHtml = 'Like what you see? Visit the ' +\n",
              "            '<a target=\"_blank\" href=https://colab.research.google.com/notebooks/data_table.ipynb>data table notebook</a>'\n",
              "            + ' to learn more about interactive tables.';\n",
              "          element.innerHTML = '';\n",
              "          dataTable['output_type'] = 'display_data';\n",
              "          await google.colab.output.renderOutput(dataTable, element);\n",
              "          const docLink = document.createElement('div');\n",
              "          docLink.innerHTML = docLinkHtml;\n",
              "          element.appendChild(docLink);\n",
              "        }\n",
              "      </script>\n",
              "    </div>\n",
              "  </div>\n",
              "  "
            ]
          },
          "metadata": {},
          "execution_count": 12
        }
      ]
    },
    {
      "cell_type": "code",
      "source": [
        "df.loc[df['region']== 'southwest', 'region'] = 0\n",
        "df.loc[df['region']== 'northwest', 'region'] = 1\n",
        "df.loc[df['region']== 'southeast', 'region'] = 2\n",
        "df.loc[df['region']== 'northeast', 'region'] = 3"
      ],
      "metadata": {
        "id": "dyfQ3LaPUCsG"
      },
      "execution_count": 15,
      "outputs": []
    },
    {
      "cell_type": "markdown",
      "source": [
        "# 2.) Split the data into 80/20, in/out sample"
      ],
      "metadata": {
        "id": "b6dsh9sc43jg"
      }
    },
    {
      "cell_type": "code",
      "source": [
        "import numpy as np"
      ],
      "metadata": {
        "id": "0Dj2Fopx47jY"
      },
      "execution_count": 17,
      "outputs": []
    },
    {
      "cell_type": "code",
      "source": [
        "# every row and every column except for the last one, needs to be in an array for sklearn\n",
        "data = np.array(df.iloc[:, :-1])"
      ],
      "metadata": {
        "id": "EU2j_fos48Uz"
      },
      "execution_count": 18,
      "outputs": []
    },
    {
      "cell_type": "code",
      "source": [
        "target= np.array(df.iloc[:, -1]) # changed to -3"
      ],
      "metadata": {
        "id": "4zdi7HCb48X3"
      },
      "execution_count": 19,
      "outputs": []
    },
    {
      "cell_type": "code",
      "source": [
        "cut = int((len(data) * .8)//1)"
      ],
      "metadata": {
        "id": "awuQQ6GpjQgj"
      },
      "execution_count": 20,
      "outputs": []
    },
    {
      "cell_type": "code",
      "source": [
        "in_data = data[:cut]\n",
        "out_data = data[cut:]\n",
        "\n",
        "in_target = target[:cut]\n",
        "out_target = data[cut:]\n"
      ],
      "metadata": {
        "id": "GIY_F7XNjBux"
      },
      "execution_count": 21,
      "outputs": []
    },
    {
      "cell_type": "markdown",
      "source": [
        "# 3.) Normalize the Data"
      ],
      "metadata": {
        "id": "hnZPWyYg48y9"
      }
    },
    {
      "cell_type": "code",
      "source": [
        "from sklearn import preprocessing"
      ],
      "metadata": {
        "id": "eq2VCgOk4-2u"
      },
      "execution_count": 23,
      "outputs": []
    },
    {
      "cell_type": "code",
      "source": [
        "scaler = preprocessing.StandardScaler().fit(in_data) \n",
        "# making a scaler object that is fit to our in sample data, allows us to scale any data with respect to the mean/sd of sample data\n"
      ],
      "metadata": {
        "id": "ye4jMpQt4_nP"
      },
      "execution_count": 24,
      "outputs": []
    },
    {
      "cell_type": "code",
      "source": [
        "in_data_scale = scaler.transform(in_data)"
      ],
      "metadata": {
        "id": "3J6q24xM4_qQ"
      },
      "execution_count": 25,
      "outputs": []
    },
    {
      "cell_type": "code",
      "source": [
        "# scaling our out of sample data based on the in sample data\n",
        "out_data_scale = scaler.transform(out_data) "
      ],
      "metadata": {
        "id": "hCJPyHrA4_s3"
      },
      "execution_count": 26,
      "outputs": []
    },
    {
      "cell_type": "markdown",
      "source": [
        "# 4.) Get lambda from Lasso cross validation"
      ],
      "metadata": {
        "id": "8WC0zdBU5AIQ"
      }
    },
    {
      "cell_type": "code",
      "source": [
        "# use function LassoCV"
      ],
      "metadata": {
        "id": "IAV53xNW5B-4"
      },
      "execution_count": null,
      "outputs": []
    },
    {
      "cell_type": "code",
      "source": [
        "#.alpha"
      ],
      "metadata": {
        "id": "ksZzsNKL5Ca2"
      },
      "execution_count": null,
      "outputs": []
    },
    {
      "cell_type": "code",
      "source": [
        "# have to figure this one out\n",
        "from sklearn.linear_model import LassoCV"
      ],
      "metadata": {
        "id": "jWRcnpVp5Cdb"
      },
      "execution_count": 28,
      "outputs": []
    },
    {
      "cell_type": "code",
      "source": [
        "modCV = LassoCV().fit(in_data_scale, in_target) "
      ],
      "metadata": {
        "id": "be9wIVyNYnm4"
      },
      "execution_count": 29,
      "outputs": []
    },
    {
      "cell_type": "code",
      "source": [
        "a = modCV.alpha_"
      ],
      "metadata": {
        "id": "NYvpD4Wyp03c"
      },
      "execution_count": 30,
      "outputs": []
    },
    {
      "cell_type": "code",
      "source": [
        "a"
      ],
      "metadata": {
        "colab": {
          "base_uri": "https://localhost:8080/"
        },
        "id": "hQTSRJzaY2Oz",
        "outputId": "7028388e-0805-49cc-ad59-3d096908f5b7"
      },
      "execution_count": 31,
      "outputs": [
        {
          "output_type": "execute_result",
          "data": {
            "text/plain": [
              "176.27926602952408"
            ]
          },
          "metadata": {},
          "execution_count": 31
        }
      ]
    },
    {
      "cell_type": "code",
      "source": [
        "#region shud be 4 binary variables, so duplicate columns"
      ],
      "metadata": {
        "id": "_v8KqWiq5CgU"
      },
      "execution_count": null,
      "outputs": []
    },
    {
      "cell_type": "markdown",
      "source": [
        "# 5.) Run a lambda regression with that Lambda"
      ],
      "metadata": {
        "id": "_--IC6M65DAG"
      }
    },
    {
      "cell_type": "code",
      "source": [
        "# use Lasso function/ the alpha above\n",
        "from sklearn.linear_model import Lasso\n"
      ],
      "metadata": {
        "id": "gkdZGF-45EvR"
      },
      "execution_count": 47,
      "outputs": []
    },
    {
      "cell_type": "code",
      "source": [
        "mod1 = sk.linear_model.Lasso(alpha = a).fit(in_data_scale, in_target)"
      ],
      "metadata": {
        "id": "RSE7QkQt5FK4"
      },
      "execution_count": 34,
      "outputs": []
    },
    {
      "cell_type": "code",
      "source": [
        "coef = mod1.coef_"
      ],
      "metadata": {
        "id": "whTqSzr4fHWA"
      },
      "execution_count": 40,
      "outputs": []
    },
    {
      "cell_type": "markdown",
      "source": [
        "# 6.) Visualize the coefficients "
      ],
      "metadata": {
        "id": "bIrU3G0V5Fkd"
      }
    },
    {
      "cell_type": "code",
      "source": [
        "plt.hist(coef)\n",
        "plt.title('Coefficients Visualized')\n",
        "plt.xlabel('Coefficients')\n",
        "plt.ylabel('Region')\n",
        "\n",
        "\n",
        "# 0 is southwest\n",
        "# 1 is northwest\n",
        "# 2 is southeast\n",
        "#3 is northeast\n"
      ],
      "metadata": {
        "colab": {
          "base_uri": "https://localhost:8080/",
          "height": 312
        },
        "id": "78EhTTBnhWno",
        "outputId": "c25c5b4d-1357-43d0-a8ea-3f8a41d8b44c"
      },
      "execution_count": 45,
      "outputs": [
        {
          "output_type": "execute_result",
          "data": {
            "text/plain": [
              "Text(0, 0.5, 'Region')"
            ]
          },
          "metadata": {},
          "execution_count": 45
        },
        {
          "output_type": "display_data",
          "data": {
            "text/plain": [
              "<Figure size 432x288 with 1 Axes>"
            ],
            "image/png": "[encoded data removed]"
          },
          "metadata": {
            "needs_background": "light"
          }
        }
      ]
    },
    {
      "cell_type": "markdown",
      "source": [
        "# 7.) Interpret the coefficients"
      ],
      "metadata": {
        "id": "_vl1fi9m5Rzf"
      }
    },
    {
      "cell_type": "markdown",
      "source": [
        "In the plot above, region was broken up as such: 0 is southwest, 1 is northwest, 2 is southeast, 3 is northeast. Coefficients with a score less than 1000 were associated with the northeast. Coefficients with scores between 1000 and 2000, between 3000 and 4000, and between 8000 and 9000 were associated with the northwest."
      ],
      "metadata": {
        "id": "ejcygIwjnllj"
      }
    },
    {
      "cell_type": "markdown",
      "source": [
        "# 8.) Compare in and out of sample MSE’s"
      ],
      "metadata": {
        "id": "WpR8BVH05UFU"
      }
    },
    {
      "cell_type": "code",
      "source": [
        "mod1.predict(np.array(in_data_scale))"
      ],
      "metadata": {
        "id": "8GUc8LoE5Vym",
        "colab": {
          "base_uri": "https://localhost:8080/"
        },
        "outputId": "f5cdfe56-fdb2-4839-f80b-cad7a371eccc"
      },
      "execution_count": 38,
      "outputs": [
        {
          "output_type": "execute_result",
          "data": {
            "text/plain": [
              "array([25165.72081561,  4111.67312725,  6985.78958892, ...,\n",
              "       11841.48932999, 11618.73145994, 12554.34362287])"
            ]
          },
          "metadata": {},
          "execution_count": 38
        }
      ]
    },
    {
      "cell_type": "code",
      "source": [
        "mod1.predict(np.array(out_data_scale))"
      ],
      "metadata": {
        "id": "1m8z_hPn5WvY",
        "colab": {
          "base_uri": "https://localhost:8080/"
        },
        "outputId": "f522db79-6a54-41a6-c769-fcc3b79fedaa"
      },
      "execution_count": 39,
      "outputs": [
        {
          "output_type": "execute_result",
          "data": {
            "text/plain": [
              "array([32986.21227301, 14520.02948007,  3662.30461561, 12114.62425727,\n",
              "        9888.77478496,  6372.648214  , 10528.91591359,  2421.05429294,\n",
              "       28839.7208477 , 15927.63497427,   863.27520379,  5700.16014472,\n",
              "        4864.98739871,  6632.40560948, 14286.22429435, 28829.13566582,\n",
              "       11789.53587507, 12743.01953297, 16744.39589255,  9545.28697148,\n",
              "       34923.08968067, 12042.68110969,  5341.72764788, 26808.48015779,\n",
              "       12686.61071212,  4452.71331449, 36314.49634992,  4809.70881489,\n",
              "       11602.38640984,  5926.09691852, 27119.07929919, 11624.75913734,\n",
              "        8391.26716732, 14489.97823528,  7077.00973455, 12057.37637924,\n",
              "       10265.67116259, 10021.72039712,  4688.90230071,  7488.6928644 ,\n",
              "       12825.64830864, 34230.04490394, 33016.22956642,  4853.64537152,\n",
              "        2470.81460765, 13032.22051585,  9995.63703699, 29181.66608218,\n",
              "       31595.7989852 ,  3468.91602343, 27201.58043261, 12713.11374767,\n",
              "       37372.64615687,  6106.52567756, 31322.22579959, 12329.75551131,\n",
              "       11604.78395058,  9280.29791928,  7517.10108397,  -737.21138698,\n",
              "        7634.60634472,  9947.97046638, 15636.47470898,  7583.84130221,\n",
              "        6171.02732521, 10885.82225   ,  7706.68739799,  2239.70674643,\n",
              "        6516.39982714, 26677.58518913, 13085.46550774,  9810.28660434,\n",
              "        9668.61331196,  9237.70192577, 11668.99012105, 12763.85370359,\n",
              "       36862.3185657 ,  3609.29720996,  9419.2999362 ,  9599.62853347,\n",
              "        2937.08603496, 14455.53458775, 33753.41080621,  8812.54343215,\n",
              "       10631.32835315,  5920.97992949, 30498.84468544,  2374.39857245,\n",
              "        3521.26406719,  9173.18118121, 10446.07435382, 10886.79816277,\n",
              "        8608.59691824,  2318.28657257,  8089.8796793 ,  5947.75555275,\n",
              "       15510.24740914,  4141.34161075,  8029.4447984 ,  8806.04925029,\n",
              "       25516.12085816, 31411.09848076, 15716.30676406,  7923.01461824,\n",
              "        6517.74877383,  2529.13157531, 32750.58296812,  7417.67793797,\n",
              "        5536.6846713 , 29035.75260186, 12498.95917205,  4018.21757058,\n",
              "        4226.27015928,  9863.64253546, 26947.30362642,  8290.41505988,\n",
              "       28760.35318764, 14330.03723086, 31144.77498778,  3045.498387  ,\n",
              "        7214.43579922,  6454.84788056, 13853.36813165, 11984.68039924,\n",
              "        3348.56122338,  3082.72529933, 25946.27673358,  9492.6367593 ,\n",
              "        8149.38126681,  4996.42945546,  6210.49956346, 13213.08781765,\n",
              "        4165.3479939 , 12075.9538776 , 25942.67436185,  3496.49350528,\n",
              "       14658.26415865, 31645.52267021, 29729.76787057, 15037.68275649,\n",
              "        7599.82466473,  9758.79620989,   321.25194396, 12464.8627062 ,\n",
              "        5463.25036477,  5552.92012596,  6734.97237331,  8204.29816305,\n",
              "       34198.23877728,  8505.84398823,  3762.22279666,  7305.51775472,\n",
              "        9299.09059563, 24691.02177627,  7101.77459124,  9651.4068841 ,\n",
              "        4544.09342551, 11420.40563813, 13501.65605656, 12933.01178218,\n",
              "       36419.56680593, 23609.55354276, 10844.70663798, 10400.37481619,\n",
              "        9401.78668481,  4855.54083743, 11622.92290616, 12008.46398649,\n",
              "        6339.64156291,  8336.15798256, 38436.68220386, 40002.4506467 ,\n",
              "        1863.51235005,  6113.68732043,  3679.84266914,  4707.29123898,\n",
              "        8766.95272429,  7165.21418905,  5601.37784181, 30871.09325685,\n",
              "       27445.26128871,  -381.91982962, 25237.97318062,  8884.89356503,\n",
              "        6017.2249374 , 10724.71846508, 13582.79099494, 11141.66480911,\n",
              "       14976.16504573,  9324.07929832,  3538.55347258,  7290.8403024 ,\n",
              "        8165.77400852,  8907.5631135 , 12187.11420851, 35491.12974167,\n",
              "       11782.42972926, 27810.91551648,  3865.00833426,  9299.89006032,\n",
              "        6000.91517322,  5618.2236322 ,  9122.7248108 ,  6536.11157541,\n",
              "       26972.05206453, 10268.90719162,  3964.80585797,  5961.14822345,\n",
              "       31523.41757929,  3943.03029485, 11176.78697955, 32843.35732354,\n",
              "       23526.92907365,  3004.3477735 , 38450.04063874,  8412.1155594 ,\n",
              "        1582.63445599,  5973.97091656, 29423.61015808, 10771.86682672,\n",
              "        5472.29261909, 27238.25490016,  1433.24496651,  9183.04846802,\n",
              "       11414.1403745 ,   820.90305628,  1699.48711019,  4762.69752916,\n",
              "        6139.10618232,  1832.68481449, 32697.16857718, 37849.7128077 ,\n",
              "        1715.10221733, 31133.66863416, 30999.54299315,  3518.2435006 ,\n",
              "       26332.06315072, 29838.63518395, 27346.08516262,  9390.29919814,\n",
              "        7749.10560888,  5310.97442183, 10507.47169168, 27782.15341477,\n",
              "       27715.30133986,  2647.97070795,  -145.05879139,  9542.15336544,\n",
              "       11176.1796066 ,  7300.96806492,  7009.70221708, 36013.19155498,\n",
              "       16303.78062894, 35514.31166121,  4887.71703523, 14639.03265509,\n",
              "        9694.07718713, 11250.98651496,  2989.54663695, 14034.0670845 ,\n",
              "       11781.76494659,  4644.31039508, 16141.68938812, 11729.63969872,\n",
              "        3415.2492559 ,  4722.03123737,  1894.33424449, 36160.72628526])"
            ]
          },
          "metadata": {},
          "execution_count": 39
        }
      ]
    }
  ]
}